{
 "cells": [
  {
   "cell_type": "code",
   "execution_count": 1,
   "id": "fe8136c8",
   "metadata": {},
   "outputs": [],
   "source": [
    "import pandas as pd\n",
    "from sqlalchemy import create_engine"
   ]
  },
  {
   "cell_type": "code",
   "execution_count": 6,
   "id": "b70b97a1",
   "metadata": {},
   "outputs": [],
   "source": [
    "az_restaurants = pd.read_csv(\"../Resources/az_yelp_restaurants.csv\")"
   ]
  },
  {
   "cell_type": "code",
   "execution_count": 7,
   "id": "10dc4c64",
   "metadata": {},
   "outputs": [],
   "source": [
    "rds_connection_string = \"postgres:postgres@localhost:5432/restaurants_db\"\n",
    "engine = create_engine(f'postgresql://{rds_connection_string}')"
   ]
  },
  {
   "cell_type": "code",
   "execution_count": 10,
   "id": "a7804450",
   "metadata": {},
   "outputs": [],
   "source": [
    "az_restaurants.to_sql(name='az_restaurants', con=engine, if_exists='append', index=True)"
   ]
  },
  {
   "cell_type": "code",
   "execution_count": 16,
   "id": "ca084ba7",
   "metadata": {},
   "outputs": [],
   "source": [
    "az_restaurants_csv = pd.read_sql_query('select * from az_restaurants', con=engine)\n",
    "az_restaurants_csv = az_restaurants_csv.drop(['index'],axis=1)"
   ]
  },
  {
   "cell_type": "code",
   "execution_count": 17,
   "id": "bf320860",
   "metadata": {},
   "outputs": [],
   "source": [
    "az_restaurants_csv.to_csv(\"../Resources/az_yelp_restaurants.csv\",index=False)"
   ]
  },
  {
   "cell_type": "code",
   "execution_count": null,
   "id": "f2ff46c7",
   "metadata": {},
   "outputs": [],
   "source": []
  },
  {
   "cell_type": "code",
   "execution_count": null,
   "id": "f9e67616",
   "metadata": {},
   "outputs": [],
   "source": []
  }
 ],
 "metadata": {
  "kernelspec": {
   "display_name": "Python 3",
   "language": "python",
   "name": "python3"
  },
  "language_info": {
   "codemirror_mode": {
    "name": "ipython",
    "version": 3
   },
   "file_extension": ".py",
   "mimetype": "text/x-python",
   "name": "python",
   "nbconvert_exporter": "python",
   "pygments_lexer": "ipython3",
   "version": "3.8.8"
  }
 },
 "nbformat": 4,
 "nbformat_minor": 5
}
